{
 "cells": [
  {
   "cell_type": "code",
   "execution_count": 2,
   "metadata": {},
   "outputs": [],
   "source": [
    "import pandas as pd\n",
    "import PyPDF2"
   ]
  },
  {
   "cell_type": "code",
   "execution_count": 102,
   "metadata": {},
   "outputs": [],
   "source": [
    "def extract_text_from_pdf(pdf_path: str) -> list[tuple[int, str]]:\n",
    "    \"\"\"Extract text from a PDF file.\n",
    "\n",
    "    Args:\n",
    "        pdf_path (str): Path to the PDF file.\n",
    "\n",
    "    Returns:\n",
    "        list[tuple[int, str]]: List of tuples where the first element is the page number and the second element is the text on that page.\n",
    "    \"\"\"\n",
    "    with open(pdf_path, \"rb\") as file:\n",
    "        reader = PyPDF2.PdfReader(file)\n",
    "        return {f\"Page {i}\": page.extract_text() for i, page in enumerate(reader.pages)}\n",
    "\n",
    "\n",
    "def get_month(text: str) -> str:\n",
    "    \"\"\"Get the month from the first page of the PDF.\n",
    "\n",
    "    Args:\n",
    "        first_page (str): Text from the first page of the PDF.\n",
    "\n",
    "    Returns:\n",
    "        str: The month in the format \"January\", \"February\", etc.\n",
    "    \"\"\"\n",
    "    month_names = {\n",
    "        \"01\": \"January\",\n",
    "        \"02\": \"February\",\n",
    "        \"03\": \"March\",\n",
    "        \"04\": \"April\",\n",
    "        \"05\": \"May\",\n",
    "        \"06\": \"June\",\n",
    "        \"07\": \"July\",\n",
    "        \"08\": \"August\",\n",
    "        \"09\": \"September\",\n",
    "        \"10\": \"October\",\n",
    "        \"11\": \"November\",\n",
    "        \"12\": \"December\",\n",
    "    }\n",
    "    date_range = text.split(\"\\n\")[2]\n",
    "    month = date_range.split(\"-\")[1]\n",
    "    return month_names[month]\n",
    "\n",
    "\n",
    "def clean_sales_data(text: str) -> str:\n",
    "    \"\"\"Clean the sales data from the PDF.\n",
    "\n",
    "    Args:\n",
    "        text (str): Text from the second page of the PDF.\n",
    "\n",
    "    Returns:\n",
    "        str: Cleaned sales data.\n",
    "    \"\"\"\n",
    "    text = text.replace(\"Försäljning efter produkt\\n\", \"\")\n",
    "    text = text.replace(\n",
    "        \"Namn Sålt Returnerat Exklusive moms Inklusive moms\",\n",
    "        \"Namn Sålt Returnerat Exklusive-moms Inklusive-moms\",\n",
    "    )\n",
    "    text = text.replace(\"PANINI, \", \"PANINI,\")\n",
    "    text = text.replace(\"KAFFE, \", \"KAFFE,\")\n",
    "    text = text.replace(\"TRIUMF, \", \"TRIUMF,\")\n",
    "    text = text.replace(\"SÖTA, \", \"SÖTA,\")\n",
    "    text = text.replace(\"\\xa0\", \"\")\n",
    "    rows = text.split(\"\\n\")\n",
    "    sales_data = [row.split(\" \") for row in rows]\n",
    "    sales_data[0].remove(\"Returnerat\")\n",
    "    return sales_data\n",
    "\n",
    "\n",
    "def join_product_names(sales_data: list[list[str]]) -> list[list[str]]:\n",
    "    \"\"\"Join product names that have been split into multiple elements.\n",
    "\n",
    "    Args:\n",
    "        sales_data (list[list[str]]): Sales data.\n",
    "\n",
    "    Returns:\n",
    "        list[list[str]]: Sales data with product names joined.\n",
    "    \"\"\"\n",
    "    processed_data = [sales_data[0]]\n",
    "    for item in sales_data[1:]:\n",
    "        new_item = []\n",
    "        name = \"\"\n",
    "        i = 0\n",
    "        while i < len(item):\n",
    "            if item[i].isdigit():\n",
    "                break\n",
    "            name += item[i] + \" \"\n",
    "            i += 1\n",
    "        new_item.append(name.strip())\n",
    "        new_item.extend(item[i:])\n",
    "        processed_data.append(new_item)\n",
    "    return processed_data[:-3]\n",
    "\n",
    "\n",
    "def convert_to_dataframe(sales_data: list[list[str]], month: str) -> pd.DataFrame:\n",
    "    \"\"\"Convert sales data to a DataFrame.\n",
    "\n",
    "    Args:\n",
    "        sales_data (list[list[str]]): Sales data.\n",
    "        month (str): The month in the format \"January\", \"February\", etc.\n",
    "\n",
    "    Returns:\n",
    "        pd.DataFrame: Sales data as a DataFrame.\n",
    "    \"\"\"\n",
    "    df = pd.DataFrame(sales_data[1:], columns=sales_data[0])\n",
    "    df[\"Month\"] = month\n",
    "    return df"
   ]
  },
  {
   "cell_type": "code",
   "execution_count": 103,
   "metadata": {},
   "outputs": [
    {
     "name": "stderr",
     "output_type": "stream",
     "text": [
      "<>:1: SyntaxWarning: invalid escape sequence '\\Z'\n",
      "<>:1: SyntaxWarning: invalid escape sequence '\\Z'\n",
      "C:\\Users\\victo\\AppData\\Local\\Temp\\ipykernel_19972\\1835976533.py:1: SyntaxWarning: invalid escape sequence '\\Z'\n",
      "  pdf  = extract_text_from_pdf('Zettle-Sales\\Zettle-Sales-Report-20220701-20220731.pdf')\n"
     ]
    },
    {
     "data": {
      "text/plain": [
       "{'Page 0': 'Dahn Wester AB\\nOrganisationsnummer: 5593748360Försäljningsrapport\\n2022-07-01 - 2022-07-31\\nFörsäljningsöversikt\\nExklusive moms Moms Inklusive moms\\nFörsäljning 181\\xa0193,35\\xa0kr 21\\xa0764,65\\xa0kr 202\\xa0958,00\\xa0kr\\nTotalt 181\\xa0193,35\\xa0kr 21\\xa0764,65\\xa0kr 202\\xa0958,00\\xa0kr\\nFörsäljning per säljkanal\\nFörsäljning Antal Exklusive moms Inklusive moms\\nKassasystem 1455 181\\xa0193,35\\xa0kr 202\\xa0958,00\\xa0kr\\nTotalt 1455 181\\xa0193,35\\xa0kr 202\\xa0958,00\\xa0kr\\nFörsäljning per momssats\\nExklusive moms Moms Inklusive moms\\n12\\xa0% Moms 181\\xa0033,35\\xa0kr 21\\xa0724,65\\xa0kr 202\\xa0758,00\\xa0kr\\n25\\xa0% Moms 160,00\\xa0kr 40,00\\xa0kr 200,00\\xa0kr\\nTotalt 181\\xa0193,35\\xa0kr 21\\xa0764,65\\xa0kr 202\\xa0958,00\\xa0kr\\nBetalningar och avgifter med Zettle\\nBetalningar och avgifter insamlade med Zettle Belopp Avgift\\nKort via kortläsare 185\\xa0591,00\\xa0kr -3\\xa0435,33\\xa0kr\\nSumma av Zettle-betalningar 185\\xa0591,00\\xa0kr\\nSumma avgifter -3\\xa0435,33\\xa0kr\\nSumma efter avgifter 182\\xa0155,67\\xa0kr\\nAlternativa betalsätt\\nBelopp\\nSwish 17\\xa0367,00\\xa0kr\\nTotalt 17\\xa0367,00\\xa0kr\\n  \\nDet finns ingen moms på Zettle-avgifter\\nFörsäljning efter produkt\\nNamn Sålt Returnerat Exklusive moms Inklusive moms\\nLäsk 675 18\\xa0081,32\\xa0kr 20\\xa0250,00\\xa0kr\\nPANINI, Italian Stallion 414 31\\xa0419,42\\xa0kr 35\\xa0190,00\\xa0kr\\nKAFFE, Espresso m. Mjölk 280 7\\xa0500,65\\xa0kr 8\\xa0400,00\\xa0kr\\nKAFFE, Bryggkaffe 238 5\\xa0312,17\\xa0kr 5\\xa0950,00\\xa0kr\\nStrips 237 10\\xa0580,16\\xa0kr 11\\xa0850,00\\xa0kr\\nPANINI, Peppes Pere 235 17\\xa0834,51\\xa0kr 19\\xa0975,00\\xa0kr\\nPANINI, Calles Cubano 225 17\\xa0075,55\\xa0kr 19\\xa0125,00\\xa0kr',\n",
       " 'Page 1': 'Citron 204 4\\xa0553,31\\xa0kr 5\\xa0100,00\\xa0kr\\nGUTE 150 4\\xa0687,50\\xa0kr 5\\xa0250,00\\xa0kr\\nPANINI, Jacks Bagnat 148 11\\xa0231,92\\xa0kr 12\\xa0580,00\\xa0kr\\nÖL 139 4\\xa0964,04\\xa0kr 5\\xa0560,00\\xa0kr\\nLime 124 2\\xa0767,71\\xa0kr 3\\xa0100,00\\xa0kr\\nPANINI, Abbes Aubergine 113 8\\xa0575,68\\xa0kr 9\\xa0605,00\\xa0kr\\nKids Croque 112 4\\xa0500,15\\xa0kr 5\\xa0040,00\\xa0kr\\nKAFFE, Dubbel Espresso 106 2\\xa0365,92\\xa0kr 2\\xa0650,00\\xa0kr\\nKAFFE, Espresso 92 1\\xa0232,03\\xa0kr 1\\xa0380,00\\xa0kr\\nSÖTA, Cannolo Siciliano 66 1\\xa0768,04\\xa0kr 1\\xa0980,00\\xa0kr\\nTRIUMF, Skruven 66 1\\xa0001,87\\xa0kr 1\\xa0122,00\\xa0kr\\nTRIUMF, Snickers 58 1\\xa0242,94\\xa0kr 1\\xa0392,00\\xa0kr\\nTRIUMF, Dumle 54 1\\xa0350,00\\xa0kr 1\\xa0512,00\\xa0kr\\nSÖTA, Apolline 50 1\\xa0116,00\\xa0kr 1\\xa0250,00\\xa0kr\\nTRIUMF, Brynt Smör 49 1\\xa0225,00\\xa0kr 1\\xa0372,00\\xa0kr\\nMelonsallad 46 1\\xa0232,29\\xa0kr 1\\xa0380,00\\xa0kr\\nTRIUMF, Sandwich 42 750,05\\xa0kr 840,00\\xa0kr\\nTRIUMF, Salt Lakrits 41 1\\xa0025,00\\xa0kr 1\\xa0148,00\\xa0kr\\nP-PANINI, Italian Stallion 40 2\\xa0142,81\\xa0kr 2\\xa0400,00\\xa0kr\\nTRIUMF, Strawberry White 39 1\\xa0044,74\\xa0kr 1\\xa0170,00\\xa0kr\\nBambini Panini 37 1\\xa0486,65\\xa0kr 1\\xa0665,00\\xa0kr\\nSÖTA, Cannoli 37 825,84\\xa0kr 925,00\\xa0kr\\nP-PANINI, Jacks Bagnat 35 1\\xa0874,95\\xa0kr 2\\xa0100,00\\xa0kr\\nP-PANINI, Peppes Pere 34 1\\xa0821,38\\xa0kr 2\\xa0040,00\\xa0kr\\nSÖTA, Cantuccini 33 589,34\\xa0kr 660,00\\xa0kr\\nP-PANINI, Calles Cubano 32 1\\xa0714,24\\xa0kr 1\\xa0920,00\\xa0kr\\nTRIUMF, Ananas Split 31 442,95\\xa0kr 496,00\\xa0kr\\nP-PANINI, Abbes Aubergine 30 1\\xa0607,10\\xa0kr 1\\xa0800,00\\xa0kr\\nTRIUMF, Sitting Bull 30 428,65\\xa0kr 480,00\\xa0kr\\nTRIUMF, Lion 22 648,15\\xa0kr 726,00\\xa0kr\\nP-PANINI, Stoffe 16 714,24\\xa0kr 800,00\\xa0kr\\nSÖTA, Affogato 14 375,03\\xa0kr 420,00\\xa0kr\\nP-PANINI, Aubergine 9 482,13\\xa0kr 540,00\\xa0kr\\nP-PANINI, Stallion 8 428,56\\xa0kr 480,00\\xa0kr\\nPANINI, Arons Aubergine 7 531,23\\xa0kr 595,00\\xa0kr\\nP-PANINI, Calles 4 214,28\\xa0kr 240,00\\xa0kr\\nP-PANINI, Jacks 4 214,28\\xa0kr 240,00\\xa0kr\\nJakob möte 1 160,00\\xa0kr 200,00\\xa0kr\\nP-PANINI, Peppes 1 53,57\\xa0kr 60,00\\xa0kr\\nTotalt 181\\xa0193,35\\xa0kr 202\\xa0958,00\\xa0kr\\n'}"
      ]
     },
     "execution_count": 103,
     "metadata": {},
     "output_type": "execute_result"
    }
   ],
   "source": [
    "pdf  = extract_text_from_pdf('Zettle-Sales\\Zettle-Sales-Report-20220701-20220731.pdf')\n",
    "pdf \n"
   ]
  },
  {
   "cell_type": "code",
   "execution_count": 104,
   "metadata": {},
   "outputs": [],
   "source": [
    "first_page = pdf['Page 0']\n",
    "rows = first_page.split(\"\\n\")\n",
    "rows[29] = \"Namn Sålt Returnerat Exklusive-moms Inklusive-moms\"\n",
    "sales_data = [row.split(\" \") for row in rows]"
   ]
  },
  {
   "cell_type": "code",
   "execution_count": 105,
   "metadata": {},
   "outputs": [
    {
     "data": {
      "text/plain": [
       "'Namn Sålt Returnerat Exklusive-moms Inklusive-moms'"
      ]
     },
     "execution_count": 105,
     "metadata": {},
     "output_type": "execute_result"
    }
   ],
   "source": [
    "rows[29]"
   ]
  },
  {
   "cell_type": "code",
   "execution_count": 106,
   "metadata": {},
   "outputs": [
    {
     "data": {
      "text/plain": [
       "[['Namn', 'Sålt', 'Returnerat', 'Exklusive-moms', 'Inklusive-moms'],\n",
       " ['Läsk', '675', '18\\xa0081,32\\xa0kr', '20\\xa0250,00\\xa0kr'],\n",
       " ['PANINI,',\n",
       "  'Italian',\n",
       "  'Stallion',\n",
       "  '414',\n",
       "  '31\\xa0419,42\\xa0kr',\n",
       "  '35\\xa0190,00\\xa0kr'],\n",
       " ['KAFFE,',\n",
       "  'Espresso',\n",
       "  'm.',\n",
       "  'Mjölk',\n",
       "  '280',\n",
       "  '7\\xa0500,65\\xa0kr',\n",
       "  '8\\xa0400,00\\xa0kr'],\n",
       " ['KAFFE,', 'Bryggkaffe', '238', '5\\xa0312,17\\xa0kr', '5\\xa0950,00\\xa0kr'],\n",
       " ['Strips', '237', '10\\xa0580,16\\xa0kr', '11\\xa0850,00\\xa0kr'],\n",
       " ['PANINI,',\n",
       "  'Peppes',\n",
       "  'Pere',\n",
       "  '235',\n",
       "  '17\\xa0834,51\\xa0kr',\n",
       "  '19\\xa0975,00\\xa0kr'],\n",
       " ['PANINI,',\n",
       "  'Calles',\n",
       "  'Cubano',\n",
       "  '225',\n",
       "  '17\\xa0075,55\\xa0kr',\n",
       "  '19\\xa0125,00\\xa0kr']]"
      ]
     },
     "execution_count": 106,
     "metadata": {},
     "output_type": "execute_result"
    }
   ],
   "source": [
    "sales_data[29:]"
   ]
  },
  {
   "cell_type": "code",
   "execution_count": 107,
   "metadata": {},
   "outputs": [],
   "source": [
    "sales_data = sales_data[29:]"
   ]
  },
  {
   "cell_type": "code",
   "execution_count": 108,
   "metadata": {},
   "outputs": [
    {
     "data": {
      "text/plain": [
       "[['Namn', 'Sålt', 'Returnerat', 'Exklusive-moms', 'Inklusive-moms'],\n",
       " ['Läsk', '675', '18081,32kr', '20250,00kr'],\n",
       " ['PANINI,', 'Italian', 'Stallion', '414', '31419,42kr', '35190,00kr'],\n",
       " ['KAFFE,', 'Espresso', 'm.', 'Mjölk', '280', '7500,65kr', '8400,00kr'],\n",
       " ['KAFFE,', 'Bryggkaffe', '238', '5312,17kr', '5950,00kr'],\n",
       " ['Strips', '237', '10580,16kr', '11850,00kr'],\n",
       " ['PANINI,', 'Peppes', 'Pere', '235', '17834,51kr', '19975,00kr'],\n",
       " ['PANINI,', 'Calles', 'Cubano', '225', '17075,55kr', '19125,00kr']]"
      ]
     },
     "execution_count": 108,
     "metadata": {},
     "output_type": "execute_result"
    }
   ],
   "source": [
    "for row in sales_data:\n",
    "    for index, element in enumerate(row):\n",
    "        row[index] = element.replace(\"Försäljning efter produkt\\n\", \"\")\n",
    "        row[index] = element.replace(\n",
    "            \"Namn Sålt Returnerat Exklusive moms Inklusive moms\",\n",
    "            \"Namn Sålt Returnerat Exklusive-moms Inklusive-moms\",\n",
    "        )\n",
    "        row[index] = element.replace(\"PANINI, \", \"PANINI,\")\n",
    "        row[index] = element.replace(\"KAFFE, \", \"KAFFE,\")\n",
    "        row[index] = element.replace(\"TRIUMF, \", \"TRIUMF,\")\n",
    "        row[index] = element.replace(\"SÖTA, \", \"SÖTA,\")\n",
    "        row[index] = element.replace(\"\\xa0\", \"\")\n",
    "sales_data"
   ]
  },
  {
   "cell_type": "code",
   "execution_count": 109,
   "metadata": {},
   "outputs": [
    {
     "data": {
      "text/plain": [
       "[['Citron', '204', '4553,31kr', '5100,00kr'],\n",
       " ['GUTE', '150', '4687,50kr', '5250,00kr'],\n",
       " ['PANINI,Jacks', 'Bagnat', '148', '11231,92kr', '12580,00kr'],\n",
       " ['ÖL', '139', '4964,04kr', '5560,00kr'],\n",
       " ['Lime', '124', '2767,71kr', '3100,00kr'],\n",
       " ['PANINI,Abbes', 'Aubergine', '113', '8575,68kr', '9605,00kr'],\n",
       " ['Kids', 'Croque', '112', '4500,15kr', '5040,00kr'],\n",
       " ['KAFFE,Dubbel', 'Espresso', '106', '2365,92kr', '2650,00kr'],\n",
       " ['KAFFE,Espresso', '92', '1232,03kr', '1380,00kr'],\n",
       " ['SÖTA,Cannolo', 'Siciliano', '66', '1768,04kr', '1980,00kr'],\n",
       " ['TRIUMF,Skruven', '66', '1001,87kr', '1122,00kr'],\n",
       " ['TRIUMF,Snickers', '58', '1242,94kr', '1392,00kr'],\n",
       " ['TRIUMF,Dumle', '54', '1350,00kr', '1512,00kr'],\n",
       " ['SÖTA,Apolline', '50', '1116,00kr', '1250,00kr'],\n",
       " ['TRIUMF,Brynt', 'Smör', '49', '1225,00kr', '1372,00kr'],\n",
       " ['Melonsallad', '46', '1232,29kr', '1380,00kr'],\n",
       " ['TRIUMF,Sandwich', '42', '750,05kr', '840,00kr'],\n",
       " ['TRIUMF,Salt', 'Lakrits', '41', '1025,00kr', '1148,00kr'],\n",
       " ['P-PANINI,Italian', 'Stallion', '40', '2142,81kr', '2400,00kr'],\n",
       " ['TRIUMF,Strawberry', 'White', '39', '1044,74kr', '1170,00kr'],\n",
       " ['Bambini', 'Panini', '37', '1486,65kr', '1665,00kr'],\n",
       " ['SÖTA,Cannoli', '37', '825,84kr', '925,00kr'],\n",
       " ['P-PANINI,Jacks', 'Bagnat', '35', '1874,95kr', '2100,00kr'],\n",
       " ['P-PANINI,Peppes', 'Pere', '34', '1821,38kr', '2040,00kr'],\n",
       " ['SÖTA,Cantuccini', '33', '589,34kr', '660,00kr'],\n",
       " ['P-PANINI,Calles', 'Cubano', '32', '1714,24kr', '1920,00kr'],\n",
       " ['TRIUMF,Ananas', 'Split', '31', '442,95kr', '496,00kr'],\n",
       " ['P-PANINI,Abbes', 'Aubergine', '30', '1607,10kr', '1800,00kr'],\n",
       " ['TRIUMF,Sitting', 'Bull', '30', '428,65kr', '480,00kr'],\n",
       " ['TRIUMF,Lion', '22', '648,15kr', '726,00kr'],\n",
       " ['P-PANINI,Stoffe', '16', '714,24kr', '800,00kr'],\n",
       " ['SÖTA,Affogato', '14', '375,03kr', '420,00kr'],\n",
       " ['P-PANINI,Aubergine', '9', '482,13kr', '540,00kr'],\n",
       " ['P-PANINI,Stallion', '8', '428,56kr', '480,00kr'],\n",
       " ['PANINI,Arons', 'Aubergine', '7', '531,23kr', '595,00kr'],\n",
       " ['P-PANINI,Calles', '4', '214,28kr', '240,00kr'],\n",
       " ['P-PANINI,Jacks', '4', '214,28kr', '240,00kr'],\n",
       " ['Jakob', 'möte', '1', '160,00kr', '200,00kr'],\n",
       " ['P-PANINI,Peppes', '1', '53,57kr', '60,00kr'],\n",
       " ['Totalt', '181193,35kr', '202958,00kr'],\n",
       " ['']]"
      ]
     },
     "execution_count": 109,
     "metadata": {},
     "output_type": "execute_result"
    }
   ],
   "source": [
    "second_page = pdf['Page 1']\n",
    "second_page = second_page.replace(\"PANINI, \", \"PANINI,\")\n",
    "second_page = second_page.replace(\"KAFFE, \", \"KAFFE,\")\n",
    "second_page = second_page.replace(\"TRIUMF, \", \"TRIUMF,\")\n",
    "second_page = second_page.replace(\"SÖTA, \", \"SÖTA,\")\n",
    "second_page = second_page.replace(\"\\xa0\", \"\")\n",
    "rows = second_page.split(\"\\n\")\n",
    "sales_data_2 = [row.split(\" \") for row in rows]\n",
    "sales_data_2"
   ]
  },
  {
   "cell_type": "code",
   "execution_count": 110,
   "metadata": {},
   "outputs": [
    {
     "data": {
      "text/plain": [
       "[['Namn', 'Sålt', 'Returnerat', 'Exklusive-moms', 'Inklusive-moms'],\n",
       " ['Läsk', '675', '18081,32kr', '20250,00kr'],\n",
       " ['PANINI,', 'Italian', 'Stallion', '414', '31419,42kr', '35190,00kr'],\n",
       " ['KAFFE,', 'Espresso', 'm.', 'Mjölk', '280', '7500,65kr', '8400,00kr'],\n",
       " ['KAFFE,', 'Bryggkaffe', '238', '5312,17kr', '5950,00kr'],\n",
       " ['Strips', '237', '10580,16kr', '11850,00kr'],\n",
       " ['PANINI,', 'Peppes', 'Pere', '235', '17834,51kr', '19975,00kr'],\n",
       " ['PANINI,', 'Calles', 'Cubano', '225', '17075,55kr', '19125,00kr'],\n",
       " ['Citron', '204', '4553,31kr', '5100,00kr'],\n",
       " ['GUTE', '150', '4687,50kr', '5250,00kr'],\n",
       " ['PANINI,Jacks', 'Bagnat', '148', '11231,92kr', '12580,00kr'],\n",
       " ['ÖL', '139', '4964,04kr', '5560,00kr'],\n",
       " ['Lime', '124', '2767,71kr', '3100,00kr'],\n",
       " ['PANINI,Abbes', 'Aubergine', '113', '8575,68kr', '9605,00kr'],\n",
       " ['Kids', 'Croque', '112', '4500,15kr', '5040,00kr'],\n",
       " ['KAFFE,Dubbel', 'Espresso', '106', '2365,92kr', '2650,00kr'],\n",
       " ['KAFFE,Espresso', '92', '1232,03kr', '1380,00kr'],\n",
       " ['SÖTA,Cannolo', 'Siciliano', '66', '1768,04kr', '1980,00kr'],\n",
       " ['TRIUMF,Skruven', '66', '1001,87kr', '1122,00kr'],\n",
       " ['TRIUMF,Snickers', '58', '1242,94kr', '1392,00kr'],\n",
       " ['TRIUMF,Dumle', '54', '1350,00kr', '1512,00kr'],\n",
       " ['SÖTA,Apolline', '50', '1116,00kr', '1250,00kr'],\n",
       " ['TRIUMF,Brynt', 'Smör', '49', '1225,00kr', '1372,00kr'],\n",
       " ['Melonsallad', '46', '1232,29kr', '1380,00kr'],\n",
       " ['TRIUMF,Sandwich', '42', '750,05kr', '840,00kr'],\n",
       " ['TRIUMF,Salt', 'Lakrits', '41', '1025,00kr', '1148,00kr'],\n",
       " ['P-PANINI,Italian', 'Stallion', '40', '2142,81kr', '2400,00kr'],\n",
       " ['TRIUMF,Strawberry', 'White', '39', '1044,74kr', '1170,00kr'],\n",
       " ['Bambini', 'Panini', '37', '1486,65kr', '1665,00kr'],\n",
       " ['SÖTA,Cannoli', '37', '825,84kr', '925,00kr'],\n",
       " ['P-PANINI,Jacks', 'Bagnat', '35', '1874,95kr', '2100,00kr'],\n",
       " ['P-PANINI,Peppes', 'Pere', '34', '1821,38kr', '2040,00kr'],\n",
       " ['SÖTA,Cantuccini', '33', '589,34kr', '660,00kr'],\n",
       " ['P-PANINI,Calles', 'Cubano', '32', '1714,24kr', '1920,00kr'],\n",
       " ['TRIUMF,Ananas', 'Split', '31', '442,95kr', '496,00kr'],\n",
       " ['P-PANINI,Abbes', 'Aubergine', '30', '1607,10kr', '1800,00kr'],\n",
       " ['TRIUMF,Sitting', 'Bull', '30', '428,65kr', '480,00kr'],\n",
       " ['TRIUMF,Lion', '22', '648,15kr', '726,00kr'],\n",
       " ['P-PANINI,Stoffe', '16', '714,24kr', '800,00kr'],\n",
       " ['SÖTA,Affogato', '14', '375,03kr', '420,00kr'],\n",
       " ['P-PANINI,Aubergine', '9', '482,13kr', '540,00kr'],\n",
       " ['P-PANINI,Stallion', '8', '428,56kr', '480,00kr'],\n",
       " ['PANINI,Arons', 'Aubergine', '7', '531,23kr', '595,00kr'],\n",
       " ['P-PANINI,Calles', '4', '214,28kr', '240,00kr'],\n",
       " ['P-PANINI,Jacks', '4', '214,28kr', '240,00kr'],\n",
       " ['Jakob', 'möte', '1', '160,00kr', '200,00kr'],\n",
       " ['P-PANINI,Peppes', '1', '53,57kr', '60,00kr'],\n",
       " ['Totalt', '181193,35kr', '202958,00kr'],\n",
       " ['']]"
      ]
     },
     "execution_count": 110,
     "metadata": {},
     "output_type": "execute_result"
    }
   ],
   "source": [
    "sales_data.extend(sales_data_2)\n",
    "sales_data"
   ]
  },
  {
   "cell_type": "code",
   "execution_count": 112,
   "metadata": {},
   "outputs": [
    {
     "data": {
      "text/plain": [
       "[['Namn', 'Sålt', 'Returnerat', 'Exklusive-moms', 'Inklusive-moms'],\n",
       " ['Läsk', '675', '18081,32kr', '20250,00kr'],\n",
       " ['PANINI, Italian Stallion', '414', '31419,42kr', '35190,00kr'],\n",
       " ['KAFFE, Espresso m. Mjölk', '280', '7500,65kr', '8400,00kr'],\n",
       " ['KAFFE, Bryggkaffe', '238', '5312,17kr', '5950,00kr'],\n",
       " ['Strips', '237', '10580,16kr', '11850,00kr'],\n",
       " ['PANINI, Peppes Pere', '235', '17834,51kr', '19975,00kr'],\n",
       " ['PANINI, Calles Cubano', '225', '17075,55kr', '19125,00kr'],\n",
       " ['Citron', '204', '4553,31kr', '5100,00kr'],\n",
       " ['GUTE', '150', '4687,50kr', '5250,00kr'],\n",
       " ['PANINI,Jacks Bagnat', '148', '11231,92kr', '12580,00kr'],\n",
       " ['ÖL', '139', '4964,04kr', '5560,00kr'],\n",
       " ['Lime', '124', '2767,71kr', '3100,00kr'],\n",
       " ['PANINI,Abbes Aubergine', '113', '8575,68kr', '9605,00kr'],\n",
       " ['Kids Croque', '112', '4500,15kr', '5040,00kr'],\n",
       " ['KAFFE,Dubbel Espresso', '106', '2365,92kr', '2650,00kr'],\n",
       " ['KAFFE,Espresso', '92', '1232,03kr', '1380,00kr'],\n",
       " ['SÖTA,Cannolo Siciliano', '66', '1768,04kr', '1980,00kr'],\n",
       " ['TRIUMF,Skruven', '66', '1001,87kr', '1122,00kr'],\n",
       " ['TRIUMF,Snickers', '58', '1242,94kr', '1392,00kr'],\n",
       " ['TRIUMF,Dumle', '54', '1350,00kr', '1512,00kr'],\n",
       " ['SÖTA,Apolline', '50', '1116,00kr', '1250,00kr'],\n",
       " ['TRIUMF,Brynt Smör', '49', '1225,00kr', '1372,00kr'],\n",
       " ['Melonsallad', '46', '1232,29kr', '1380,00kr'],\n",
       " ['TRIUMF,Sandwich', '42', '750,05kr', '840,00kr'],\n",
       " ['TRIUMF,Salt Lakrits', '41', '1025,00kr', '1148,00kr'],\n",
       " ['P-PANINI,Italian Stallion', '40', '2142,81kr', '2400,00kr'],\n",
       " ['TRIUMF,Strawberry White', '39', '1044,74kr', '1170,00kr'],\n",
       " ['Bambini Panini', '37', '1486,65kr', '1665,00kr'],\n",
       " ['SÖTA,Cannoli', '37', '825,84kr', '925,00kr'],\n",
       " ['P-PANINI,Jacks Bagnat', '35', '1874,95kr', '2100,00kr'],\n",
       " ['P-PANINI,Peppes Pere', '34', '1821,38kr', '2040,00kr'],\n",
       " ['SÖTA,Cantuccini', '33', '589,34kr', '660,00kr'],\n",
       " ['P-PANINI,Calles Cubano', '32', '1714,24kr', '1920,00kr'],\n",
       " ['TRIUMF,Ananas Split', '31', '442,95kr', '496,00kr'],\n",
       " ['P-PANINI,Abbes Aubergine', '30', '1607,10kr', '1800,00kr'],\n",
       " ['TRIUMF,Sitting Bull', '30', '428,65kr', '480,00kr'],\n",
       " ['TRIUMF,Lion', '22', '648,15kr', '726,00kr'],\n",
       " ['P-PANINI,Stoffe', '16', '714,24kr', '800,00kr'],\n",
       " ['SÖTA,Affogato', '14', '375,03kr', '420,00kr'],\n",
       " ['P-PANINI,Aubergine', '9', '482,13kr', '540,00kr'],\n",
       " ['P-PANINI,Stallion', '8', '428,56kr', '480,00kr'],\n",
       " ['PANINI,Arons Aubergine', '7', '531,23kr', '595,00kr'],\n",
       " ['P-PANINI,Calles', '4', '214,28kr', '240,00kr'],\n",
       " ['P-PANINI,Jacks', '4', '214,28kr', '240,00kr'],\n",
       " ['Jakob möte', '1', '160,00kr', '200,00kr']]"
      ]
     },
     "execution_count": 112,
     "metadata": {},
     "output_type": "execute_result"
    }
   ],
   "source": [
    "sales_data = join_product_names(sales_data)\n",
    "sales_data"
   ]
  },
  {
   "cell_type": "code",
   "execution_count": 119,
   "metadata": {},
   "outputs": [],
   "source": [
    "sales_data[0].remove(\"Returnerat\")"
   ]
  },
  {
   "cell_type": "code",
   "execution_count": 120,
   "metadata": {},
   "outputs": [],
   "source": [
    "df = convert_to_dataframe(sales_data, get_month(first_page))"
   ]
  },
  {
   "cell_type": "code",
   "execution_count": 121,
   "metadata": {},
   "outputs": [],
   "source": [
    "df.to_csv(\"processed_sales_data/prego_sales_july.csv\", index=False)"
   ]
  },
  {
   "cell_type": "code",
   "execution_count": 122,
   "metadata": {},
   "outputs": [],
   "source": [
    "pdf_file.close()"
   ]
  },
  {
   "cell_type": "code",
   "execution_count": 3,
   "metadata": {},
   "outputs": [
    {
     "data": {
      "text/html": [
       "<div>\n",
       "<style scoped>\n",
       "    .dataframe tbody tr th:only-of-type {\n",
       "        vertical-align: middle;\n",
       "    }\n",
       "\n",
       "    .dataframe tbody tr th {\n",
       "        vertical-align: top;\n",
       "    }\n",
       "\n",
       "    .dataframe thead th {\n",
       "        text-align: right;\n",
       "    }\n",
       "</style>\n",
       "<table border=\"1\" class=\"dataframe\">\n",
       "  <thead>\n",
       "    <tr style=\"text-align: right;\">\n",
       "      <th></th>\n",
       "      <th>Namn</th>\n",
       "      <th>Sålt</th>\n",
       "      <th>Exklusive-moms</th>\n",
       "      <th>Inklusive-moms</th>\n",
       "      <th>Month</th>\n",
       "    </tr>\n",
       "  </thead>\n",
       "  <tbody>\n",
       "    <tr>\n",
       "      <th>0</th>\n",
       "      <td>Läsk</td>\n",
       "      <td>75</td>\n",
       "      <td>2009,02kr</td>\n",
       "      <td>2250,00kr</td>\n",
       "      <td>June</td>\n",
       "    </tr>\n",
       "    <tr>\n",
       "      <th>1</th>\n",
       "      <td>PANINI,Italian Stallion</td>\n",
       "      <td>42</td>\n",
       "      <td>3187,47kr</td>\n",
       "      <td>3570,00kr</td>\n",
       "      <td>June</td>\n",
       "    </tr>\n",
       "    <tr>\n",
       "      <th>2</th>\n",
       "      <td>KAFFE,Bryggkaffe</td>\n",
       "      <td>40</td>\n",
       "      <td>892,80kr</td>\n",
       "      <td>1000,00kr</td>\n",
       "      <td>June</td>\n",
       "    </tr>\n",
       "    <tr>\n",
       "      <th>3</th>\n",
       "      <td>GUTE</td>\n",
       "      <td>34</td>\n",
       "      <td>1062,50kr</td>\n",
       "      <td>1190,00kr</td>\n",
       "      <td>June</td>\n",
       "    </tr>\n",
       "    <tr>\n",
       "      <th>4</th>\n",
       "      <td>PANINI,Peppes Pere</td>\n",
       "      <td>29</td>\n",
       "      <td>2200,84kr</td>\n",
       "      <td>2465,00kr</td>\n",
       "      <td>June</td>\n",
       "    </tr>\n",
       "  </tbody>\n",
       "</table>\n",
       "</div>"
      ],
      "text/plain": [
       "                      Namn  Sålt Exklusive-moms Inklusive-moms Month\n",
       "0                     Läsk    75      2009,02kr      2250,00kr  June\n",
       "1  PANINI,Italian Stallion    42      3187,47kr      3570,00kr  June\n",
       "2         KAFFE,Bryggkaffe    40       892,80kr      1000,00kr  June\n",
       "3                     GUTE    34      1062,50kr      1190,00kr  June\n",
       "4       PANINI,Peppes Pere    29      2200,84kr      2465,00kr  June"
      ]
     },
     "execution_count": 3,
     "metadata": {},
     "output_type": "execute_result"
    }
   ],
   "source": [
    "prego_sales = pd.read_csv(\"processed_sales_data/prego_sales_june_july_august.csv\")\n",
    "prego_sales.head()"
   ]
  },
  {
   "cell_type": "code",
   "execution_count": 9,
   "metadata": {},
   "outputs": [
    {
     "data": {
      "text/plain": [
       "array(['PANINI,Italian Stallion', 'PANINI,Peppes Pere',\n",
       "       'P-PANINI,Stallion', 'PANINI,Calles Cubano',\n",
       "       'PANINI,Arons Aubergine', 'P-PANINI,Calles', 'PANINI,Jacks Bagnat',\n",
       "       'P-PANINI,Peppes', 'P-PANINI,Aubergine', 'P-PANINI,Jacks',\n",
       "       'P-PANINI,Stoffe', 'PANINI, Italian Stallion',\n",
       "       'PANINI, Peppes Pere', 'PANINI, Calles Cubano',\n",
       "       'PANINI,Abbes Aubergine', 'P-PANINI,Italian Stallion',\n",
       "       'P-PANINI,Jacks Bagnat', 'P-PANINI,Peppes Pere',\n",
       "       'P-PANINI,Calles Cubano', 'P-PANINI,Abbes Aubergine'], dtype=object)"
      ]
     },
     "execution_count": 9,
     "metadata": {},
     "output_type": "execute_result"
    }
   ],
   "source": [
    "paninis = prego_sales[\"Namn\"].str.contains(\"PANINI\")\n",
    "paninis = prego_sales[paninis]\n",
    "paninis.Namn.unique()"
   ]
  },
  {
   "cell_type": "code",
   "execution_count": 10,
   "metadata": {},
   "outputs": [
    {
     "name": "stderr",
     "output_type": "stream",
     "text": [
      "C:\\Users\\victo\\AppData\\Local\\Temp\\ipykernel_30976\\2010945350.py:8: SettingWithCopyWarning: \n",
      "A value is trying to be set on a copy of a slice from a DataFrame.\n",
      "Try using .loc[row_indexer,col_indexer] = value instead\n",
      "\n",
      "See the caveats in the documentation: https://pandas.pydata.org/pandas-docs/stable/user_guide/indexing.html#returning-a-view-versus-a-copy\n",
      "  paninis.Namn = paninis.Namn.replace(name, value)\n"
     ]
    },
    {
     "data": {
      "text/plain": [
       "array(['Italian Stallion', 'PANINI,Peppes Pere', 'PANINI,Calles Cubano',\n",
       "       'PANINI,Arons Aubergine', 'P-PANINI,Calles', 'PANINI,Jacks Bagnat',\n",
       "       'P-PANINI,Peppes', 'P-PANINI,Aubergine', 'P-PANINI,Jacks',\n",
       "       'P-PANINI,Stoffe', 'PANINI, Peppes Pere', 'PANINI, Calles Cubano',\n",
       "       'PANINI,Abbes Aubergine', 'P-PANINI,Jacks Bagnat',\n",
       "       'P-PANINI,Peppes Pere', 'P-PANINI,Calles Cubano',\n",
       "       'P-PANINI,Abbes Aubergine'], dtype=object)"
      ]
     },
     "execution_count": 10,
     "metadata": {},
     "output_type": "execute_result"
    }
   ],
   "source": [
    "panini_name_converter = {\n",
    "    lambda name: name.__contains__(\"Stallion\"): \"Panini Italian Stallion\",\n",
    "}\n",
    "\n",
    "for name in paninis.Namn.unique():\n",
    "    for key, value in panini_name_converter.items():\n",
    "        if key(name):\n",
    "            paninis.Namn = paninis.Namn.replace(name, value)\n",
    "paninis.Namn.unique()"
   ]
  }
 ],
 "metadata": {
  "kernelspec": {
   "display_name": "prego",
   "language": "python",
   "name": "python3"
  },
  "language_info": {
   "codemirror_mode": {
    "name": "ipython",
    "version": 3
   },
   "file_extension": ".py",
   "mimetype": "text/x-python",
   "name": "python",
   "nbconvert_exporter": "python",
   "pygments_lexer": "ipython3",
   "version": "3.12.2"
  }
 },
 "nbformat": 4,
 "nbformat_minor": 2
}
